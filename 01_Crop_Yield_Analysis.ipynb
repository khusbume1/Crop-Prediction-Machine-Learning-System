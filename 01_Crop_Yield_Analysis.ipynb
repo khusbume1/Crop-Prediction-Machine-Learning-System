{
 "cells": [
  {
   "cell_type": "markdown",
   "metadata": {},
   "source": [
    "# Crop Yield Prediction - Data Analysis & Modeling\n",
    "\n",
    "This notebook provides comprehensive analysis of crop yield data and demonstrates the ML modeling pipeline.\n",
    "\n",
    "## Contents\n",
    "1. Data Loading & Exploration\n",
    "2. Weather Data Analysis\n",
    "3. Satellite Data Analysis\n",
    "4. Feature Engineering\n",
    "5. Model Training\n",
    "6. Model Evaluation\n",
    "7. Predictions & Visualizations"
   ]
  },
  {
   "cell_type": "code",
   "execution_count": null,
   "metadata": {},
   "outputs": [],
   "source": [
    "# Import libraries\n",
    "import pandas as pd\n",
    "import numpy as np\n",
    "import matplotlib.pyplot as plt\n",
    "import seaborn as sns\n",
    "import sys\n",
    "from pathlib import Path\n",
    "\n",
    "# Add src to path\n",
    "sys.path.append('../src')\n",
    "\n",
    "from models.ml_models import CropYieldModels\n",
    "from train_pipeline import CropPredictionPipeline\n",
    "\n",
    "# Set style\n",
    "plt.style.use('seaborn-v0_8-darkgrid')\n",
    "sns.set_palette(\"husl\")\n",
    "\n",
    "%matplotlib inline\n",
    "%load_ext autoreload\n",
    "%autoreload 2\n",
    "\n",
    "print(\"Libraries loaded successfully!\")"
   ]
  },
  {
   "cell_type": "markdown",
   "metadata": {},
   "source": [
    "## 1. Data Loading & Exploration"
   ]
  },
  {
   "cell_type": "code",
   "execution_count": null,
   "metadata": {},
   "outputs": [],
   "source": [
    "# Initialize pipeline\n",
    "pipeline = CropPredictionPipeline(config_path='../config/config_template.yaml')\n",
    "\n",
    "# Create synthetic data for demonstration\n",
    "# Replace with: df = pipeline.load_and_merge_data() when you have real data\n",
    "df = pipeline.create_synthetic_data(n_samples=2000)\n",
    "\n",
    "print(f\"Dataset shape: {df.shape}\")\n",
    "print(f\"\\nColumns: {list(df.columns)}\")\n",
    "df.head()"
   ]
  },
  {
   "cell_type": "code",
   "execution_count": null,
   "metadata": {},
   "outputs": [],
   "source": [
    "# Dataset summary statistics\n",
    "df.describe()"
   ]
  },
  {
   "cell_type": "code",
   "execution_count": null,
   "metadata": {},
   "outputs": [],
   "source": [
    "# Check for missing values\n",
    "missing = df.isnull().sum()\n",
    "missing = missing[missing > 0].sort_values(ascending=False)\n",
    "\n",
    "if len(missing) > 0:\n",
    "    print(\"Missing values:\")\n",
    "    print(missing)\n",
    "else:\n",
    "    print(\"No missing values!\")"
   ]
  },
  {
   "cell_type": "markdown",
   "metadata": {},
   "source": [
    "## 2. Yield Distribution Analysis"
   ]
  },
  {
   "cell_type": "code",
   "execution_count": null,
   "metadata": {},
   "outputs": [],
   "source": [
    "# Yield distribution\n",
    "fig, axes = plt.subplots(1, 2, figsize=(15, 5))\n",
    "\n",
    "# Histogram\n",
    "axes[0].hist(df['yield'], bins=50, edgecolor='black', alpha=0.7)\n",
    "axes[0].set_xlabel('Yield (bushels/acre)')\n",
    "axes[0].set_ylabel('Frequency')\n",
    "axes[0].set_title('Distribution of Crop Yields')\n",
    "axes[0].axvline(df['yield'].mean(), color='red', linestyle='--', label=f'Mean: {df[\"yield\"].mean():.1f}')\n",
    "axes[0].legend()\n",
    "\n",
    "# Box plot by year\n",
    "df.boxplot(column='yield', by='year', ax=axes[1])\n",
    "axes[1].set_xlabel('Year')\n",
    "axes[1].set_ylabel('Yield (bushels/acre)')\n",
    "axes[1].set_title('Yield Distribution by Year')\n",
    "\n",
    "plt.tight_layout()\n",
    "plt.show()"
   ]
  },
  {
   "cell_type": "markdown",
   "metadata": {},
   "source": [
    "## 3. Weather Data Analysis"
   ]
  },
  {
   "cell_type": "code",
   "execution_count": null,
   "metadata": {},
   "outputs": [],
   "source": [
    "# Weather features correlation with yield\n",
    "weather_cols = ['temp_mean', 'temp_max', 'temp_min', 'precipitation', 'humidity', 'gdd_cumulative', 'drought_index']\n",
    "weather_cols = [c for c in weather_cols if c in df.columns]\n",
    "\n",
    "correlations = df[weather_cols + ['yield']].corr()['yield'].drop('yield').sort_values(ascending=False)\n",
    "\n",
    "plt.figure(figsize=(10, 6))\n",
    "correlations.plot(kind='barh', color='steelblue')\n",
    "plt.xlabel('Correlation with Yield')\n",
    "plt.title('Weather Features Correlation with Crop Yield')\n",
    "plt.tight_layout()\n",
    "plt.show()\n",
    "\n",
    "print(\"\\nTop correlated features:\")\n",
    "print(correlations)"
   ]
  },
  {
   "cell_type": "code",
   "execution_count": null,
   "metadata": {},
   "outputs": [],
   "source": [
    "# Scatter plots: Key weather features vs yield\n",
    "fig, axes = plt.subplots(2, 2, figsize=(15, 12))\n",
    "axes = axes.ravel()\n",
    "\n",
    "plot_features = ['precipitation', 'gdd_cumulative', 'drought_index', 'temp_mean']\n",
    "plot_features = [f for f in plot_features if f in df.columns]\n",
    "\n",
    "for idx, feature in enumerate(plot_features[:4]):\n",
    "    axes[idx].scatter(df[feature], df['yield'], alpha=0.5)\n",
    "    axes[idx].set_xlabel(feature.replace('_', ' ').title())\n",
    "    axes[idx].set_ylabel('Yield (bushels/acre)')\n",
    "    axes[idx].set_title(f'Yield vs {feature.replace(\"_\", \" \").title()}')\n",
    "    \n",
    "    # Add trend line\n",
    "    z = np.polyfit(df[feature], df['yield'], 1)\n",
    "    p = np.poly1d(z)\n",
    "    axes[idx].plot(df[feature], p(df[feature]), \"r--\", alpha=0.8, linewidth=2)\n",
    "\n",
    "plt.tight_layout()\n",
    "plt.show()"
   ]
  },
  {
   "cell_type": "markdown",
   "metadata": {},
   "source": [
    "## 4. Satellite Data Analysis"
   ]
  },
  {
   "cell_type": "code",
   "execution_count": null,
   "metadata": {},
   "outputs": [],
   "source": [
    "# Satellite features correlation\n",
    "satellite_cols = ['ndvi_mean', 'ndvi_max', 'evi_mean', 'soil_moisture_mean']\n",
    "satellite_cols = [c for c in satellite_cols if c in df.columns]\n",
    "\n",
    "if satellite_cols:\n",
    "    sat_correlations = df[satellite_cols + ['yield']].corr()['yield'].drop('yield').sort_values(ascending=False)\n",
    "    \n",
    "    plt.figure(figsize=(10, 6))\n",
    "    sat_correlations.plot(kind='barh', color='forestgreen')\n",
    "    plt.xlabel('Correlation with Yield')\n",
    "    plt.title('Satellite Features Correlation with Crop Yield')\n",
    "    plt.tight_layout()\n",
    "    plt.show()\n",
    "    \n",
    "    print(\"\\nSatellite feature correlations:\")\n",
    "    print(sat_correlations)"
   ]
  },
  {
   "cell_type": "markdown",
   "metadata": {},
   "source": [
    "## 5. Feature Correlation Heatmap"
   ]
  },
  {
   "cell_type": "code",
   "execution_count": null,
   "metadata": {},
   "outputs": [],
   "source": [
    "# Correlation heatmap of all numeric features\n",
    "numeric_cols = df.select_dtypes(include=[np.number]).columns.tolist()\n",
    "numeric_cols = [c for c in numeric_cols if c != 'year']  # Exclude year\n",
    "\n",
    "plt.figure(figsize=(14, 12))\n",
    "correlation_matrix = df[numeric_cols].corr()\n",
    "sns.heatmap(correlation_matrix, annot=True, fmt='.2f', cmap='coolwarm', center=0, \n",
    "            square=True, linewidths=1, cbar_kws={\"shrink\": 0.8})\n",
    "plt.title('Feature Correlation Heatmap', fontsize=16, fontweight='bold')\n",
    "plt.tight_layout()\n",
    "plt.show()"
   ]
  },
  {
   "cell_type": "markdown",
   "metadata": {},
   "source": [
    "## 6. Model Training"
   ]
  },
  {
   "cell_type": "code",
   "execution_count": null,
   "metadata": {},
   "outputs": [],
   "source": [
    "# Prepare features and target\n",
    "X, y = pipeline.prepare_features_and_target(df)\n",
    "\n",
    "print(f\"Features: {X.shape}\")\n",
    "print(f\"Target: {y.shape}\")\n",
    "print(f\"\\nFeature names: {list(X.columns)}\")"
   ]
  },
  {
   "cell_type": "code",
   "execution_count": null,
   "metadata": {},
   "outputs": [],
   "source": [
    "# Train all models\n",
    "results = pipeline.train_and_evaluate(X, y)"
   ]
  },
  {
   "cell_type": "markdown",
   "metadata": {},
   "source": [
    "## 7. Model Comparison"
   ]
  },
  {
   "cell_type": "code",
   "execution_count": null,
   "metadata": {},
   "outputs": [],
   "source": [
    "# Create comparison DataFrame\n",
    "comparison_df = pd.DataFrame(results['model_comparison'])\n",
    "\n",
    "# Display comparison table\n",
    "print(\"\\nModel Performance Comparison:\")\n",
    "print(\"=\"*80)\n",
    "display(comparison_df)\n",
    "\n",
    "# Plot comparison\n",
    "fig, axes = plt.subplots(2, 2, figsize=(15, 10))\n",
    "\n",
    "# R² comparison\n",
    "axes[0, 0].barh(comparison_df['model'], comparison_df['r2'], color='steelblue')\n",
    "axes[0, 0].set_xlabel('R² Score')\n",
    "axes[0, 0].set_title('Model R² Comparison (Higher is Better)')\n",
    "axes[0, 0].grid(axis='x', alpha=0.3)\n",
    "\n",
    "# RMSE comparison\n",
    "axes[0, 1].barh(comparison_df['model'], comparison_df['rmse'], color='coral')\n",
    "axes[0, 1].set_xlabel('RMSE')\n",
    "axes[0, 1].set_title('Model RMSE Comparison (Lower is Better)')\n",
    "axes[0, 1].grid(axis='x', alpha=0.3)\n",
    "\n",
    "# MAE comparison\n",
    "axes[1, 0].barh(comparison_df['model'], comparison_df['mae'], color='lightgreen')\n",
    "axes[1, 0].set_xlabel('MAE')\n",
    "axes[1, 0].set_title('Model MAE Comparison (Lower is Better)')\n",
    "axes[1, 0].grid(axis='x', alpha=0.3)\n",
    "\n",
    "# MAPE comparison\n",
    "axes[1, 1].barh(comparison_df['model'], comparison_df['mape'], color='gold')\n",
    "axes[1, 1].set_xlabel('MAPE (%)')\n",
    "axes[1, 1].set_title('Model MAPE Comparison (Lower is Better)')\n",
    "axes[1, 1].grid(axis='x', alpha=0.3)\n",
    "\n",
    "plt.tight_layout()\n",
    "plt.show()"
   ]
  },
  {
   "cell_type": "markdown",
   "metadata": {},
   "source": [
    "## 8. Feature Importance Analysis"
   ]
  },
  {
   "cell_type": "code",
   "execution_count": null,
   "metadata": {},
   "outputs": [],
   "source": [
    "# Get feature importance from best models\n",
    "best_models = ['random_forest', 'xgboost', 'lightgbm']\n",
    "\n",
    "fig, axes = plt.subplots(1, 3, figsize=(18, 6))\n",
    "\n",
    "for idx, model_name in enumerate(best_models):\n",
    "    if model_name in pipeline.models.feature_importance:\n",
    "        importance = pipeline.models.feature_importance[model_name].head(10)\n",
    "        \n",
    "        axes[idx].barh(importance['feature'], importance['importance'])\n",
    "        axes[idx].set_xlabel('Importance')\n",
    "        axes[idx].set_title(f'{model_name.replace(\"_\", \" \").title()}\\nTop 10 Features')\n",
    "        axes[idx].invert_yaxis()\n",
    "\n",
    "plt.tight_layout()\n",
    "plt.show()"
   ]
  },
  {
   "cell_type": "markdown",
   "metadata": {},
   "source": [
    "## 9. Prediction Visualization"
   ]
  },
  {
   "cell_type": "code",
   "execution_count": null,
   "metadata": {},
   "outputs": [],
   "source": [
    "# Get predictions from best model\n",
    "best_model_name = results['best_model']\n",
    "best_model = pipeline.models.models[best_model_name]\n",
    "\n",
    "# Prepare test data\n",
    "data = pipeline.models.prepare_data(X, y, test_size=0.2)\n",
    "X_test = data['X_test']\n",
    "y_test = data['y_test']\n",
    "\n",
    "# Make predictions\n",
    "y_pred = best_model.predict(X_test)\n",
    "if isinstance(y_pred, np.ndarray) and y_pred.ndim > 1:\n",
    "    y_pred = y_pred.flatten()\n",
    "\n",
    "# Actual vs Predicted plot\n",
    "fig, axes = plt.subplots(1, 2, figsize=(15, 6))\n",
    "\n",
    "# Scatter plot\n",
    "axes[0].scatter(y_test, y_pred, alpha=0.5)\n",
    "axes[0].plot([y_test.min(), y_test.max()], [y_test.min(), y_test.max()], 'r--', lw=2)\n",
    "axes[0].set_xlabel('Actual Yield')\n",
    "axes[0].set_ylabel('Predicted Yield')\n",
    "axes[0].set_title(f'Actual vs Predicted - {best_model_name.replace(\"_\", \" \").title()}')\n",
    "axes[0].grid(alpha=0.3)\n",
    "\n",
    "# Residual plot\n",
    "residuals = y_test - y_pred\n",
    "axes[1].scatter(y_pred, residuals, alpha=0.5)\n",
    "axes[1].axhline(y=0, color='r', linestyle='--', lw=2)\n",
    "axes[1].set_xlabel('Predicted Yield')\n",
    "axes[1].set_ylabel('Residuals')\n",
    "axes[1].set_title('Residual Plot')\n",
    "axes[1].grid(alpha=0.3)\n",
    "\n",
    "plt.tight_layout()\n",
    "plt.show()\n",
    "\n",
    "print(f\"\\nBest Model: {best_model_name}\")\n",
    "print(f\"R²: {results['best_r2']:.4f}\")\n",
    "print(f\"RMSE: {results['best_rmse']:.2f}\")"
   ]
  },
  {
   "cell_type": "markdown",
   "metadata": {},
   "source": [
    "## 10. Save Models and Results"
   ]
  },
  {
   "cell_type": "code",
   "execution_count": null,
   "metadata": {},
   "outputs": [],
   "source": [
    "# Save all results\n",
    "pipeline.save_results(output_dir='../outputs')\n",
    "\n",
    "print(\"✅ All models and results saved successfully!\")"
   ]
  },
  {
   "cell_type": "markdown",
   "metadata": {},
   "source": [
    "## Summary\n",
    "\n",
    "This notebook demonstrated:\n",
    "1. Loading and exploring crop yield data\n",
    "2. Analyzing weather and satellite features\n",
    "3. Training multiple ML models (Linear Regression, Random Forest, XGBoost, LightGBM, SVR, MLP)\n",
    "4. Comparing model performance\n",
    "5. Analyzing feature importance\n",
    "6. Visualizing predictions\n",
    "\n",
    "### Next Steps:\n",
    "- Collect real data using the data collection scripts\n",
    "- Experiment with additional features\n",
    "- Try ensemble methods\n",
    "- Implement LSTM for time-series modeling\n",
    "- Add SHAP values for model interpretation"
   ]
  }
 ],
 "metadata": {
  "kernelspec": {
   "display_name": "Python 3",
   "language": "python",
   "name": "python3"
  },
  "language_info": {
   "codemirror_mode": {
    "name": "ipython",
    "version": 3
   },
   "file_extension": ".py",
   "mimetype": "text/x-python",
   "name": "python",
   "nbconvert_exporter": "python",
   "pygments_lexer": "ipython3",
   "version": "3.9.0"
  }
 },
 "nbformat": 4,
 "nbformat_minor": 4
}
